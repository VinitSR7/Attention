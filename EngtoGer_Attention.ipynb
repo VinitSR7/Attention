{
  "nbformat": 4,
  "nbformat_minor": 0,
  "metadata": {
    "colab": {
      "name": "EngtoGer_Attention.ipynb",
      "provenance": [],
      "collapsed_sections": []
    },
    "kernelspec": {
      "name": "python3",
      "display_name": "Python 3"
    },
    "accelerator": "GPU"
  },
  "cells": [
    {
      "cell_type": "markdown",
      "metadata": {
        "id": "PcAhpv5imPqw",
        "colab_type": "text"
      },
      "source": [
        "# Neural Machine Translation Using Encoder Decoder"
      ]
    },
    {
      "cell_type": "markdown",
      "metadata": {
        "id": "ei-NQmIan-J6",
        "colab_type": "text"
      },
      "source": [
        "# Importing Libraries"
      ]
    },
    {
      "cell_type": "code",
      "metadata": {
        "id": "63rC81CMfkdl",
        "colab_type": "code",
        "colab": {}
      },
      "source": [
        "import pandas as pd\n",
        "import numpy as np\n",
        "import string\n",
        "from string import digits\n",
        "import matplotlib.pyplot as plt\n",
        "import re\n",
        "from sklearn.utils import shuffle\n",
        "from sklearn.model_selection import train_test_split \n",
        "from tensorflow.keras.layers import *\n",
        "from tensorflow.keras.preprocessing import text, sequence\n",
        "from tensorflow.keras.utils import plot_model\n",
        "from tensorflow.keras.callbacks import ModelCheckpoint\n",
        "from tensorflow.keras.models import Model"
      ],
      "execution_count": 50,
      "outputs": []
    },
    {
      "cell_type": "code",
      "metadata": {
        "id": "BhpdwMVZg3Td",
        "colab_type": "code",
        "colab": {
          "base_uri": "https://localhost:8080/",
          "height": 122
        },
        "outputId": "7de571f1-006a-49f9-deb1-08f3eb6ee892"
      },
      "source": [
        "from google.colab import drive\n",
        "drive.mount('/content/gdrive')"
      ],
      "execution_count": 2,
      "outputs": [
        {
          "output_type": "stream",
          "text": [
            "Go to this URL in a browser: https://accounts.google.com/o/oauth2/auth?client_id=947318989803-6bn6qk8qdgf4n4g3pfee6491hc0brc4i.apps.googleusercontent.com&redirect_uri=urn%3aietf%3awg%3aoauth%3a2.0%3aoob&response_type=code&scope=email%20https%3a%2f%2fwww.googleapis.com%2fauth%2fdocs.test%20https%3a%2f%2fwww.googleapis.com%2fauth%2fdrive%20https%3a%2f%2fwww.googleapis.com%2fauth%2fdrive.photos.readonly%20https%3a%2f%2fwww.googleapis.com%2fauth%2fpeopleapi.readonly\n",
            "\n",
            "Enter your authorization code:\n",
            "··········\n",
            "Mounted at /content/gdrive\n"
          ],
          "name": "stdout"
        }
      ]
    },
    {
      "cell_type": "code",
      "metadata": {
        "id": "s0i2s2T_i7D5",
        "colab_type": "code",
        "colab": {
          "base_uri": "https://localhost:8080/",
          "height": 34
        },
        "outputId": "39f05418-7bd4-4cf9-9ade-db4e7f1e415a"
      },
      "source": [
        "cd '/content/gdrive/My Drive/MachineTranslation/'"
      ],
      "execution_count": 3,
      "outputs": [
        {
          "output_type": "stream",
          "text": [
            "/content/gdrive/My Drive/MachineTranslation\n"
          ],
          "name": "stdout"
        }
      ]
    },
    {
      "cell_type": "markdown",
      "metadata": {
        "id": "B-NAUJ7dmXhS",
        "colab_type": "text"
      },
      "source": [
        "# Loading the Data"
      ]
    },
    {
      "cell_type": "code",
      "metadata": {
        "id": "z6MPmDf3nOKL",
        "colab_type": "code",
        "colab": {}
      },
      "source": [
        "df = pd.read_csv('deu.txt', delimiter = '\\t',names=[\"eng\", \"ger\", \"c\"])"
      ],
      "execution_count": 4,
      "outputs": []
    },
    {
      "cell_type": "code",
      "metadata": {
        "id": "3mRGv4De8CMp",
        "colab_type": "code",
        "colab": {
          "base_uri": "https://localhost:8080/",
          "height": 34
        },
        "outputId": "d248678c-93a8-4d9e-c955-85badbf15644"
      },
      "source": [
        "df.shape"
      ],
      "execution_count": 5,
      "outputs": [
        {
          "output_type": "execute_result",
          "data": {
            "text/plain": [
              "(200519, 3)"
            ]
          },
          "metadata": {
            "tags": []
          },
          "execution_count": 5
        }
      ]
    },
    {
      "cell_type": "code",
      "metadata": {
        "id": "mPfqlyWF9Dav",
        "colab_type": "code",
        "colab": {}
      },
      "source": [
        "df = df.drop(['c'], axis = 1)"
      ],
      "execution_count": 6,
      "outputs": []
    },
    {
      "cell_type": "code",
      "metadata": {
        "id": "CeJDCbRWf3f9",
        "colab_type": "code",
        "colab": {
          "base_uri": "https://localhost:8080/",
          "height": 359
        },
        "outputId": "0dd4dc99-d16a-4951-f3e3-994b36c89ecc"
      },
      "source": [
        "df.sample(10)"
      ],
      "execution_count": 7,
      "outputs": [
        {
          "output_type": "execute_result",
          "data": {
            "text/html": [
              "<div>\n",
              "<style scoped>\n",
              "    .dataframe tbody tr th:only-of-type {\n",
              "        vertical-align: middle;\n",
              "    }\n",
              "\n",
              "    .dataframe tbody tr th {\n",
              "        vertical-align: top;\n",
              "    }\n",
              "\n",
              "    .dataframe thead th {\n",
              "        text-align: right;\n",
              "    }\n",
              "</style>\n",
              "<table border=\"1\" class=\"dataframe\">\n",
              "  <thead>\n",
              "    <tr style=\"text-align: right;\">\n",
              "      <th></th>\n",
              "      <th>eng</th>\n",
              "      <th>ger</th>\n",
              "    </tr>\n",
              "  </thead>\n",
              "  <tbody>\n",
              "    <tr>\n",
              "      <th>168625</th>\n",
              "      <td>What do you call this vegetable in English?</td>\n",
              "      <td>Wie nennst du dieses Gemüse auf Englisch?</td>\n",
              "    </tr>\n",
              "    <tr>\n",
              "      <th>100931</th>\n",
              "      <td>I've been doing some research.</td>\n",
              "      <td>Ich habe ein paar Nachforschungen angestellt.</td>\n",
              "    </tr>\n",
              "    <tr>\n",
              "      <th>144683</th>\n",
              "      <td>Tom can't handle this job on his own.</td>\n",
              "      <td>Tom wird mit dieser Aufgabe nicht alleine fertig.</td>\n",
              "    </tr>\n",
              "    <tr>\n",
              "      <th>81316</th>\n",
              "      <td>Tom doesn't want to change.</td>\n",
              "      <td>Tom will sich nicht ändern.</td>\n",
              "    </tr>\n",
              "    <tr>\n",
              "      <th>137308</th>\n",
              "      <td>I can assure you that you are wrong.</td>\n",
              "      <td>Ich kann dir versichern, dass du dich irrst.</td>\n",
              "    </tr>\n",
              "    <tr>\n",
              "      <th>85835</th>\n",
              "      <td>I need to get my nails done.</td>\n",
              "      <td>Ich muss mir die Nägel machen lassen.</td>\n",
              "    </tr>\n",
              "    <tr>\n",
              "      <th>137477</th>\n",
              "      <td>I don't know much about your family.</td>\n",
              "      <td>Viel weiß ich über deine Familie nicht.</td>\n",
              "    </tr>\n",
              "    <tr>\n",
              "      <th>118777</th>\n",
              "      <td>Concentrate on what you're doing.</td>\n",
              "      <td>Konzentriere dich auf das, was du gerade tust!</td>\n",
              "    </tr>\n",
              "    <tr>\n",
              "      <th>181887</th>\n",
              "      <td>There was some kind of white powder on the floor.</td>\n",
              "      <td>Eine Art weißes Pulver war auf dem Boden.</td>\n",
              "    </tr>\n",
              "    <tr>\n",
              "      <th>166795</th>\n",
              "      <td>I went to the airport to see my friend off.</td>\n",
              "      <td>Ich fuhr zum Flughafen, um meinen Freund zu ve...</td>\n",
              "    </tr>\n",
              "  </tbody>\n",
              "</table>\n",
              "</div>"
            ],
            "text/plain": [
              "                                                      eng                                                ger\n",
              "168625        What do you call this vegetable in English?          Wie nennst du dieses Gemüse auf Englisch?\n",
              "100931                     I've been doing some research.      Ich habe ein paar Nachforschungen angestellt.\n",
              "144683              Tom can't handle this job on his own.  Tom wird mit dieser Aufgabe nicht alleine fertig.\n",
              "81316                         Tom doesn't want to change.                        Tom will sich nicht ändern.\n",
              "137308               I can assure you that you are wrong.       Ich kann dir versichern, dass du dich irrst.\n",
              "85835                        I need to get my nails done.              Ich muss mir die Nägel machen lassen.\n",
              "137477               I don't know much about your family.            Viel weiß ich über deine Familie nicht.\n",
              "118777                  Concentrate on what you're doing.     Konzentriere dich auf das, was du gerade tust!\n",
              "181887  There was some kind of white powder on the floor.          Eine Art weißes Pulver war auf dem Boden.\n",
              "166795        I went to the airport to see my friend off.  Ich fuhr zum Flughafen, um meinen Freund zu ve..."
            ]
          },
          "metadata": {
            "tags": []
          },
          "execution_count": 7
        }
      ]
    },
    {
      "cell_type": "markdown",
      "metadata": {
        "id": "kBVGrKQ7mb83",
        "colab_type": "text"
      },
      "source": [
        "# Preprocessing Data"
      ]
    },
    {
      "cell_type": "code",
      "metadata": {
        "id": "5J-TT-Dlf3oC",
        "colab_type": "code",
        "colab": {}
      },
      "source": [
        "# Lowercase all characters\n",
        "df.eng=df.eng.apply(lambda x: x.lower())\n",
        "df.ger=df.ger.apply(lambda x: x.lower())"
      ],
      "execution_count": 8,
      "outputs": []
    },
    {
      "cell_type": "code",
      "metadata": {
        "id": "o_VM2XoIf3qw",
        "colab_type": "code",
        "colab": {}
      },
      "source": [
        "# Remove quotes\n",
        "df.eng=df.eng.apply(lambda x: re.sub(\"'\", '', x))\n",
        "df.ger=df.ger.apply(lambda x: re.sub(\"'\", '', x))"
      ],
      "execution_count": 9,
      "outputs": []
    },
    {
      "cell_type": "code",
      "metadata": {
        "id": "zHhKXyj1f3xD",
        "colab_type": "code",
        "colab": {}
      },
      "source": [
        "# Remove all the special characters\n",
        "exclude = set(string.punctuation) # Set of all special characters\n",
        "\n",
        "df.eng=df.eng.apply(lambda x: ''.join(ch for ch in x if ch not in exclude))\n",
        "df.ger=df.ger.apply(lambda x: ''.join(ch for ch in x if ch not in exclude))"
      ],
      "execution_count": 10,
      "outputs": []
    },
    {
      "cell_type": "code",
      "metadata": {
        "id": "ob21s668f37b",
        "colab_type": "code",
        "colab": {}
      },
      "source": [
        "# Remove extra spaces\n",
        "df.eng=df.eng.apply(lambda x: x.strip())\n",
        "df.ger=df.ger.apply(lambda x: x.strip())"
      ],
      "execution_count": 11,
      "outputs": []
    },
    {
      "cell_type": "code",
      "metadata": {
        "id": "D7Gbizhif35J",
        "colab_type": "code",
        "colab": {}
      },
      "source": [
        "# Add start and end tokens to target sequences\n",
        "df.eng = df.eng.apply(lambda x: 'startseq ' + x + ' endseq')\n",
        "df.ger = df.ger.apply(lambda x : 'startseq '+ x + ' endseq')"
      ],
      "execution_count": 12,
      "outputs": []
    },
    {
      "cell_type": "code",
      "metadata": {
        "id": "1_Z2-JzNf33o",
        "colab_type": "code",
        "colab": {
          "base_uri": "https://localhost:8080/",
          "height": 359
        },
        "outputId": "3a159358-9a94-4ccc-8599-7a9d3313ab1d"
      },
      "source": [
        "df.sample(10)"
      ],
      "execution_count": 13,
      "outputs": [
        {
          "output_type": "execute_result",
          "data": {
            "text/html": [
              "<div>\n",
              "<style scoped>\n",
              "    .dataframe tbody tr th:only-of-type {\n",
              "        vertical-align: middle;\n",
              "    }\n",
              "\n",
              "    .dataframe tbody tr th {\n",
              "        vertical-align: top;\n",
              "    }\n",
              "\n",
              "    .dataframe thead th {\n",
              "        text-align: right;\n",
              "    }\n",
              "</style>\n",
              "<table border=\"1\" class=\"dataframe\">\n",
              "  <thead>\n",
              "    <tr style=\"text-align: right;\">\n",
              "      <th></th>\n",
              "      <th>eng</th>\n",
              "      <th>ger</th>\n",
              "    </tr>\n",
              "  </thead>\n",
              "  <tbody>\n",
              "    <tr>\n",
              "      <th>156961</th>\n",
              "      <td>startseq people always ask me why i do what i ...</td>\n",
              "      <td>startseq die leute fragen mich immer warum ich...</td>\n",
              "    </tr>\n",
              "    <tr>\n",
              "      <th>152201</th>\n",
              "      <td>startseq i will start working on july the firs...</td>\n",
              "      <td>startseq ich werde am ersten juli anfangen zu ...</td>\n",
              "    </tr>\n",
              "    <tr>\n",
              "      <th>148005</th>\n",
              "      <td>startseq if i had known i would not have come ...</td>\n",
              "      <td>startseq wenn ich das gewusst hätte wäre ich n...</td>\n",
              "    </tr>\n",
              "    <tr>\n",
              "      <th>172802</th>\n",
              "      <td>startseq its hard to draw a circle without a c...</td>\n",
              "      <td>startseq es ist schwierig ohne einen zirkel ei...</td>\n",
              "    </tr>\n",
              "    <tr>\n",
              "      <th>5777</th>\n",
              "      <td>startseq thats a risk endseq</td>\n",
              "      <td>startseq das ist ein risiko endseq</td>\n",
              "    </tr>\n",
              "    <tr>\n",
              "      <th>133601</th>\n",
              "      <td>startseq riding a horse is really thrilling en...</td>\n",
              "      <td>startseq auf einem pferd zu reiten ist wirklic...</td>\n",
              "    </tr>\n",
              "    <tr>\n",
              "      <th>82719</th>\n",
              "      <td>startseq what did you promise to do endseq</td>\n",
              "      <td>startseq was habt ihr versprochen zu tun endseq</td>\n",
              "    </tr>\n",
              "    <tr>\n",
              "      <th>39290</th>\n",
              "      <td>startseq tom is gaining on us endseq</td>\n",
              "      <td>startseq tom holt uns immer mehr ein endseq</td>\n",
              "    </tr>\n",
              "    <tr>\n",
              "      <th>140082</th>\n",
              "      <td>startseq tom is married to one of my cousins e...</td>\n",
              "      <td>startseq tom ist mit einem meiner cousins verh...</td>\n",
              "    </tr>\n",
              "    <tr>\n",
              "      <th>36723</th>\n",
              "      <td>startseq i owe you an apology endseq</td>\n",
              "      <td>startseq ich muss mich bei dir entschuldigen e...</td>\n",
              "    </tr>\n",
              "  </tbody>\n",
              "</table>\n",
              "</div>"
            ],
            "text/plain": [
              "                                                      eng                                                ger\n",
              "156961  startseq people always ask me why i do what i ...  startseq die leute fragen mich immer warum ich...\n",
              "152201  startseq i will start working on july the firs...  startseq ich werde am ersten juli anfangen zu ...\n",
              "148005  startseq if i had known i would not have come ...  startseq wenn ich das gewusst hätte wäre ich n...\n",
              "172802  startseq its hard to draw a circle without a c...  startseq es ist schwierig ohne einen zirkel ei...\n",
              "5777                         startseq thats a risk endseq                 startseq das ist ein risiko endseq\n",
              "133601  startseq riding a horse is really thrilling en...  startseq auf einem pferd zu reiten ist wirklic...\n",
              "82719          startseq what did you promise to do endseq    startseq was habt ihr versprochen zu tun endseq\n",
              "39290                startseq tom is gaining on us endseq        startseq tom holt uns immer mehr ein endseq\n",
              "140082  startseq tom is married to one of my cousins e...  startseq tom ist mit einem meiner cousins verh...\n",
              "36723                startseq i owe you an apology endseq  startseq ich muss mich bei dir entschuldigen e..."
            ]
          },
          "metadata": {
            "tags": []
          },
          "execution_count": 13
        }
      ]
    },
    {
      "cell_type": "markdown",
      "metadata": {
        "id": "XXkyOLornwL4",
        "colab_type": "text"
      },
      "source": [
        "# Train, Val, Test Split"
      ]
    },
    {
      "cell_type": "code",
      "metadata": {
        "id": "yQykJIx4m1PE",
        "colab_type": "code",
        "colab": {}
      },
      "source": [
        "from sklearn.model_selection import train_test_split\n",
        "X_train, X_test, Y_train, Y_test = train_test_split(df['eng'], df['ger'],  train_size=0.8)"
      ],
      "execution_count": 14,
      "outputs": []
    },
    {
      "cell_type": "code",
      "metadata": {
        "id": "5I_MmOWuNqcl",
        "colab_type": "code",
        "colab": {
          "base_uri": "https://localhost:8080/",
          "height": 34
        },
        "outputId": "dad25635-6e48-468c-dcdd-f4cc985b6231"
      },
      "source": [
        "c = 0\n",
        "for i in df['eng']:\n",
        "  if len(i.split()) < 20:\n",
        "    c+=1\n",
        "(1.0*c)/len(df)"
      ],
      "execution_count": 15,
      "outputs": [
        {
          "output_type": "execute_result",
          "data": {
            "text/plain": [
              "0.996519033109082"
            ]
          },
          "metadata": {
            "tags": []
          },
          "execution_count": 15
        }
      ]
    },
    {
      "cell_type": "markdown",
      "metadata": {
        "id": "VW2votGamGzl",
        "colab_type": "text"
      },
      "source": [
        "# Tokenization"
      ]
    },
    {
      "cell_type": "code",
      "metadata": {
        "id": "io8qZ64amN2h",
        "colab_type": "code",
        "colab": {}
      },
      "source": [
        "from tensorflow.keras.preprocessing.text import Tokenizer\n",
        "from tensorflow.keras.preprocessing.sequence import pad_sequences\n",
        "from tensorflow.keras.utils import to_categorical"
      ],
      "execution_count": 16,
      "outputs": []
    },
    {
      "cell_type": "markdown",
      "metadata": {
        "id": "avyjcNGuncDV",
        "colab_type": "text"
      },
      "source": [
        "### English Tokenization"
      ]
    },
    {
      "cell_type": "code",
      "metadata": {
        "id": "W1X5Aw7GmJ1j",
        "colab_type": "code",
        "colab": {}
      },
      "source": [
        "def pad_sequence(t, padding_var = 20):\n",
        "    t = sequence.pad_sequences(t, maxlen=padding_var, padding='post') \n",
        "    return t\n",
        "\n",
        "def build_data(train, test):\n",
        "  print(\"=\"*100)\n",
        "  print(\"Fitting the Tokenizer...\")\n",
        "  tokenizer = Tokenizer(lower=True)\n",
        "  tokenizer.fit_on_texts(train)\n",
        "  print(\"Done...\")\n",
        "  print('Found %s unique tokens.' % len(tokenizer.word_counts))\n",
        "  print(\"=\"*100)\n",
        "  print()\n",
        "  print(\"Processing Text to sequence process\")\n",
        "  train = tokenizer.texts_to_sequences(train)\n",
        "  test = tokenizer.texts_to_sequences(test)\n",
        "  print(\"Done\")\n",
        "  print(\"=\"*100)\n",
        "  print()\n",
        "  print(\"Starting Padding Process...\")  \n",
        "  train = pad_sequence(train)\n",
        "  test = pad_sequence(test)\n",
        "  print(\"Done\")\n",
        "  return train, test, tokenizer"
      ],
      "execution_count": 17,
      "outputs": []
    },
    {
      "cell_type": "markdown",
      "metadata": {
        "id": "mtTF4YHGqjXL",
        "colab_type": "text"
      },
      "source": [
        "## English Tokenization"
      ]
    },
    {
      "cell_type": "code",
      "metadata": {
        "id": "ba-poJITpqha",
        "colab_type": "code",
        "colab": {
          "base_uri": "https://localhost:8080/",
          "height": 221
        },
        "outputId": "23a98a08-2f3f-4367-c1af-c725e7486bb9"
      },
      "source": [
        "X_train, X_test, tokenizer_eng = build_data(X_train, X_test)"
      ],
      "execution_count": 18,
      "outputs": [
        {
          "output_type": "stream",
          "text": [
            "====================================================================================================\n",
            "Fitting the Tokenizer...\n",
            "Done...\n",
            "Found 15148 unique tokens.\n",
            "====================================================================================================\n",
            "\n",
            "Processing Text to sequence process\n",
            "Done\n",
            "====================================================================================================\n",
            "\n",
            "Starting Padding Process...\n",
            "Done\n"
          ],
          "name": "stdout"
        }
      ]
    },
    {
      "cell_type": "markdown",
      "metadata": {
        "id": "8xnk1Zllqmbp",
        "colab_type": "text"
      },
      "source": [
        "## German Tokenization"
      ]
    },
    {
      "cell_type": "code",
      "metadata": {
        "id": "k6RG0ikuMx2E",
        "colab_type": "code",
        "colab": {
          "base_uri": "https://localhost:8080/",
          "height": 221
        },
        "outputId": "36701372-3d3c-4190-cb86-44f85d5a8974"
      },
      "source": [
        "Y_train, Y_test, tokenizer_ger = build_data(Y_train, Y_test)"
      ],
      "execution_count": 19,
      "outputs": [
        {
          "output_type": "stream",
          "text": [
            "====================================================================================================\n",
            "Fitting the Tokenizer...\n",
            "Done...\n",
            "Found 31842 unique tokens.\n",
            "====================================================================================================\n",
            "\n",
            "Processing Text to sequence process\n",
            "Done\n",
            "====================================================================================================\n",
            "\n",
            "Starting Padding Process...\n",
            "Done\n"
          ],
          "name": "stdout"
        }
      ]
    },
    {
      "cell_type": "code",
      "metadata": {
        "id": "WspQ40Ctf3tU",
        "colab_type": "code",
        "colab": {
          "base_uri": "https://localhost:8080/",
          "height": 34
        },
        "outputId": "c855075e-a529-44c2-a084-8babf6b367ae"
      },
      "source": [
        "num_encoder_tokens = len(tokenizer_eng.word_counts)\n",
        "num_decoder_tokens = len(tokenizer_ger.word_counts)+1\n",
        "num_encoder_tokens, num_decoder_tokens"
      ],
      "execution_count": 20,
      "outputs": [
        {
          "output_type": "execute_result",
          "data": {
            "text/plain": [
              "(15148, 31843)"
            ]
          },
          "metadata": {
            "tags": []
          },
          "execution_count": 20
        }
      ]
    },
    {
      "cell_type": "markdown",
      "metadata": {
        "id": "FKh1ozVHmkxg",
        "colab_type": "text"
      },
      "source": [
        "# Processing Embedding Matrix"
      ]
    },
    {
      "cell_type": "code",
      "metadata": {
        "id": "Ig3HF6RAEfpx",
        "colab_type": "code",
        "colab": {
          "base_uri": "https://localhost:8080/",
          "height": 1000
        },
        "outputId": "07d4aed6-58d0-4c2a-a04b-152bc0cf1002"
      },
      "source": [
        "!python -m spacy download en_core_web_lg\n",
        "!python -m spacy download de_core_news_md"
      ],
      "execution_count": 23,
      "outputs": [
        {
          "output_type": "stream",
          "text": [
            "Collecting en_core_web_lg==2.2.5\n",
            "\u001b[?25l  Downloading https://github.com/explosion/spacy-models/releases/download/en_core_web_lg-2.2.5/en_core_web_lg-2.2.5.tar.gz (827.9MB)\n",
            "\u001b[K     |████████████████████████████████| 827.9MB 1.2MB/s \n",
            "\u001b[?25hRequirement already satisfied: spacy>=2.2.2 in /usr/local/lib/python3.6/dist-packages (from en_core_web_lg==2.2.5) (2.2.4)\n",
            "Requirement already satisfied: blis<0.5.0,>=0.4.0 in /usr/local/lib/python3.6/dist-packages (from spacy>=2.2.2->en_core_web_lg==2.2.5) (0.4.1)\n",
            "Requirement already satisfied: wasabi<1.1.0,>=0.4.0 in /usr/local/lib/python3.6/dist-packages (from spacy>=2.2.2->en_core_web_lg==2.2.5) (0.6.0)\n",
            "Requirement already satisfied: preshed<3.1.0,>=3.0.2 in /usr/local/lib/python3.6/dist-packages (from spacy>=2.2.2->en_core_web_lg==2.2.5) (3.0.2)\n",
            "Requirement already satisfied: cymem<2.1.0,>=2.0.2 in /usr/local/lib/python3.6/dist-packages (from spacy>=2.2.2->en_core_web_lg==2.2.5) (2.0.3)\n",
            "Requirement already satisfied: numpy>=1.15.0 in /usr/local/lib/python3.6/dist-packages (from spacy>=2.2.2->en_core_web_lg==2.2.5) (1.18.5)\n",
            "Requirement already satisfied: srsly<1.1.0,>=1.0.2 in /usr/local/lib/python3.6/dist-packages (from spacy>=2.2.2->en_core_web_lg==2.2.5) (1.0.2)\n",
            "Requirement already satisfied: setuptools in /usr/local/lib/python3.6/dist-packages (from spacy>=2.2.2->en_core_web_lg==2.2.5) (47.3.1)\n",
            "Requirement already satisfied: tqdm<5.0.0,>=4.38.0 in /usr/local/lib/python3.6/dist-packages (from spacy>=2.2.2->en_core_web_lg==2.2.5) (4.41.1)\n",
            "Requirement already satisfied: thinc==7.4.0 in /usr/local/lib/python3.6/dist-packages (from spacy>=2.2.2->en_core_web_lg==2.2.5) (7.4.0)\n",
            "Requirement already satisfied: catalogue<1.1.0,>=0.0.7 in /usr/local/lib/python3.6/dist-packages (from spacy>=2.2.2->en_core_web_lg==2.2.5) (1.0.0)\n",
            "Requirement already satisfied: requests<3.0.0,>=2.13.0 in /usr/local/lib/python3.6/dist-packages (from spacy>=2.2.2->en_core_web_lg==2.2.5) (2.23.0)\n",
            "Requirement already satisfied: plac<1.2.0,>=0.9.6 in /usr/local/lib/python3.6/dist-packages (from spacy>=2.2.2->en_core_web_lg==2.2.5) (1.1.3)\n",
            "Requirement already satisfied: murmurhash<1.1.0,>=0.28.0 in /usr/local/lib/python3.6/dist-packages (from spacy>=2.2.2->en_core_web_lg==2.2.5) (1.0.2)\n",
            "Requirement already satisfied: importlib-metadata>=0.20; python_version < \"3.8\" in /usr/local/lib/python3.6/dist-packages (from catalogue<1.1.0,>=0.0.7->spacy>=2.2.2->en_core_web_lg==2.2.5) (1.6.1)\n",
            "Requirement already satisfied: urllib3!=1.25.0,!=1.25.1,<1.26,>=1.21.1 in /usr/local/lib/python3.6/dist-packages (from requests<3.0.0,>=2.13.0->spacy>=2.2.2->en_core_web_lg==2.2.5) (1.24.3)\n",
            "Requirement already satisfied: certifi>=2017.4.17 in /usr/local/lib/python3.6/dist-packages (from requests<3.0.0,>=2.13.0->spacy>=2.2.2->en_core_web_lg==2.2.5) (2020.4.5.2)\n",
            "Requirement already satisfied: idna<3,>=2.5 in /usr/local/lib/python3.6/dist-packages (from requests<3.0.0,>=2.13.0->spacy>=2.2.2->en_core_web_lg==2.2.5) (2.9)\n",
            "Requirement already satisfied: chardet<4,>=3.0.2 in /usr/local/lib/python3.6/dist-packages (from requests<3.0.0,>=2.13.0->spacy>=2.2.2->en_core_web_lg==2.2.5) (3.0.4)\n",
            "Requirement already satisfied: zipp>=0.5 in /usr/local/lib/python3.6/dist-packages (from importlib-metadata>=0.20; python_version < \"3.8\"->catalogue<1.1.0,>=0.0.7->spacy>=2.2.2->en_core_web_lg==2.2.5) (3.1.0)\n",
            "Building wheels for collected packages: en-core-web-lg\n",
            "  Building wheel for en-core-web-lg (setup.py) ... \u001b[?25l\u001b[?25hdone\n",
            "  Created wheel for en-core-web-lg: filename=en_core_web_lg-2.2.5-cp36-none-any.whl size=829180944 sha256=18788b2e99932c6eac6929e78ba24c8b2815518d6615c1252886758826abad86\n",
            "  Stored in directory: /tmp/pip-ephem-wheel-cache-ky8ban4y/wheels/2a/c1/a6/fc7a877b1efca9bc6a089d6f506f16d3868408f9ff89f8dbfc\n",
            "Successfully built en-core-web-lg\n",
            "Installing collected packages: en-core-web-lg\n",
            "Successfully installed en-core-web-lg-2.2.5\n",
            "\u001b[38;5;2m✔ Download and installation successful\u001b[0m\n",
            "You can now load the model via spacy.load('en_core_web_lg')\n",
            "Collecting de_core_news_md==2.2.5\n",
            "\u001b[?25l  Downloading https://github.com/explosion/spacy-models/releases/download/de_core_news_md-2.2.5/de_core_news_md-2.2.5.tar.gz (224.6MB)\n",
            "\u001b[K     |████████████████████████████████| 224.6MB 1.3MB/s \n",
            "\u001b[?25hRequirement already satisfied: spacy>=2.2.2 in /usr/local/lib/python3.6/dist-packages (from de_core_news_md==2.2.5) (2.2.4)\n",
            "Requirement already satisfied: plac<1.2.0,>=0.9.6 in /usr/local/lib/python3.6/dist-packages (from spacy>=2.2.2->de_core_news_md==2.2.5) (1.1.3)\n",
            "Requirement already satisfied: catalogue<1.1.0,>=0.0.7 in /usr/local/lib/python3.6/dist-packages (from spacy>=2.2.2->de_core_news_md==2.2.5) (1.0.0)\n",
            "Requirement already satisfied: wasabi<1.1.0,>=0.4.0 in /usr/local/lib/python3.6/dist-packages (from spacy>=2.2.2->de_core_news_md==2.2.5) (0.6.0)\n",
            "Requirement already satisfied: srsly<1.1.0,>=1.0.2 in /usr/local/lib/python3.6/dist-packages (from spacy>=2.2.2->de_core_news_md==2.2.5) (1.0.2)\n",
            "Requirement already satisfied: setuptools in /usr/local/lib/python3.6/dist-packages (from spacy>=2.2.2->de_core_news_md==2.2.5) (47.3.1)\n",
            "Requirement already satisfied: tqdm<5.0.0,>=4.38.0 in /usr/local/lib/python3.6/dist-packages (from spacy>=2.2.2->de_core_news_md==2.2.5) (4.41.1)\n",
            "Requirement already satisfied: murmurhash<1.1.0,>=0.28.0 in /usr/local/lib/python3.6/dist-packages (from spacy>=2.2.2->de_core_news_md==2.2.5) (1.0.2)\n",
            "Requirement already satisfied: requests<3.0.0,>=2.13.0 in /usr/local/lib/python3.6/dist-packages (from spacy>=2.2.2->de_core_news_md==2.2.5) (2.23.0)\n",
            "Requirement already satisfied: cymem<2.1.0,>=2.0.2 in /usr/local/lib/python3.6/dist-packages (from spacy>=2.2.2->de_core_news_md==2.2.5) (2.0.3)\n",
            "Requirement already satisfied: blis<0.5.0,>=0.4.0 in /usr/local/lib/python3.6/dist-packages (from spacy>=2.2.2->de_core_news_md==2.2.5) (0.4.1)\n",
            "Requirement already satisfied: preshed<3.1.0,>=3.0.2 in /usr/local/lib/python3.6/dist-packages (from spacy>=2.2.2->de_core_news_md==2.2.5) (3.0.2)\n",
            "Requirement already satisfied: numpy>=1.15.0 in /usr/local/lib/python3.6/dist-packages (from spacy>=2.2.2->de_core_news_md==2.2.5) (1.18.5)\n",
            "Requirement already satisfied: thinc==7.4.0 in /usr/local/lib/python3.6/dist-packages (from spacy>=2.2.2->de_core_news_md==2.2.5) (7.4.0)\n",
            "Requirement already satisfied: importlib-metadata>=0.20; python_version < \"3.8\" in /usr/local/lib/python3.6/dist-packages (from catalogue<1.1.0,>=0.0.7->spacy>=2.2.2->de_core_news_md==2.2.5) (1.6.1)\n",
            "Requirement already satisfied: idna<3,>=2.5 in /usr/local/lib/python3.6/dist-packages (from requests<3.0.0,>=2.13.0->spacy>=2.2.2->de_core_news_md==2.2.5) (2.9)\n",
            "Requirement already satisfied: urllib3!=1.25.0,!=1.25.1,<1.26,>=1.21.1 in /usr/local/lib/python3.6/dist-packages (from requests<3.0.0,>=2.13.0->spacy>=2.2.2->de_core_news_md==2.2.5) (1.24.3)\n",
            "Requirement already satisfied: certifi>=2017.4.17 in /usr/local/lib/python3.6/dist-packages (from requests<3.0.0,>=2.13.0->spacy>=2.2.2->de_core_news_md==2.2.5) (2020.4.5.2)\n",
            "Requirement already satisfied: chardet<4,>=3.0.2 in /usr/local/lib/python3.6/dist-packages (from requests<3.0.0,>=2.13.0->spacy>=2.2.2->de_core_news_md==2.2.5) (3.0.4)\n",
            "Requirement already satisfied: zipp>=0.5 in /usr/local/lib/python3.6/dist-packages (from importlib-metadata>=0.20; python_version < \"3.8\"->catalogue<1.1.0,>=0.0.7->spacy>=2.2.2->de_core_news_md==2.2.5) (3.1.0)\n",
            "Building wheels for collected packages: de-core-news-md\n",
            "  Building wheel for de-core-news-md (setup.py) ... \u001b[?25l\u001b[?25hdone\n",
            "  Created wheel for de-core-news-md: filename=de_core_news_md-2.2.5-cp36-none-any.whl size=228399478 sha256=0c28bf86eeb10323c570755d5158ada1e428d509c15f4a922a3b407eabe52615\n",
            "  Stored in directory: /tmp/pip-ephem-wheel-cache-5z9tnl4g/wheels/41/60/41/81898870259d7c19fe8f9e46a537611c939f0c425eee2e1785\n",
            "Successfully built de-core-news-md\n",
            "Installing collected packages: de-core-news-md\n",
            "Successfully installed de-core-news-md-2.2.5\n",
            "\u001b[38;5;2m✔ Download and installation successful\u001b[0m\n",
            "You can now load the model via spacy.load('de_core_news_md')\n"
          ],
          "name": "stdout"
        }
      ]
    },
    {
      "cell_type": "code",
      "metadata": {
        "id": "xO84M54YFO_5",
        "colab_type": "code",
        "colab": {}
      },
      "source": [
        "import en_core_web_lg\n",
        "import de_core_news_md\n",
        "eng = en_core_web_lg.load()\n",
        "ger = de_core_news_md.load()"
      ],
      "execution_count": 24,
      "outputs": []
    },
    {
      "cell_type": "code",
      "metadata": {
        "id": "5BMoPoN-rLe6",
        "colab_type": "code",
        "colab": {}
      },
      "source": [
        "def build_embedding_matrix(tokenizer, build_y = False):\n",
        "    base = eng\n",
        "    if(build_y):\n",
        "      base = ger\n",
        "    embedding_matrix = np.zeros((len(tokenizer.word_counts) + 1, 300))\n",
        "\n",
        "    for word, i in tokenizer.word_index.items():  \n",
        "        embedding_matrix[i] = base(word).vector\n",
        "    \n",
        "    return embedding_matrix \n",
        "embedding_matrix_enc = build_embedding_matrix(tokenizer_eng)\n",
        "embedding_matrix_dec = build_embedding_matrix(tokenizer_ger, build_y = True)"
      ],
      "execution_count": 25,
      "outputs": []
    },
    {
      "cell_type": "code",
      "metadata": {
        "id": "C90ve8N-saIa",
        "colab_type": "code",
        "colab": {
          "base_uri": "https://localhost:8080/",
          "height": 34
        },
        "outputId": "c44c4b39-68a6-4cf3-f4e0-ee64c03afd71"
      },
      "source": [
        "embedding_matrix_enc.shape, embedding_matrix_dec.shape"
      ],
      "execution_count": 26,
      "outputs": [
        {
          "output_type": "execute_result",
          "data": {
            "text/plain": [
              "((15149, 300), (31843, 300))"
            ]
          },
          "metadata": {
            "tags": []
          },
          "execution_count": 26
        }
      ]
    },
    {
      "cell_type": "markdown",
      "metadata": {
        "id": "GZMEiKwJnWKL",
        "colab_type": "text"
      },
      "source": [
        "# Defining The Model"
      ]
    },
    {
      "cell_type": "code",
      "metadata": {
        "id": "20pYZIlkhpZ6",
        "colab_type": "code",
        "colab": {}
      },
      "source": [
        "from attention import AttentionLayer"
      ],
      "execution_count": 44,
      "outputs": []
    },
    {
      "cell_type": "code",
      "metadata": {
        "id": "MRrZNPJ-1yaN",
        "colab_type": "code",
        "colab": {}
      },
      "source": [
        "class AttentionLayer(Layer):\n",
        "    \"\"\"\n",
        "    This class implements Bahdanau attention (https://arxiv.org/pdf/1409.0473.pdf).\n",
        "    There are three sets of weights introduced W_a, U_a, and V_a\n",
        "     \"\"\"\n",
        "\n",
        "    def __init__(self, **kwargs):\n",
        "        super(AttentionLayer, self).__init__(**kwargs)\n",
        "\n",
        "    def build(self, input_shape):\n",
        "        assert isinstance(input_shape, list)\n",
        "        # Create a trainable weight variable for this layer.\n",
        "\n",
        "        self.W_a = self.add_weight(name='W_a',\n",
        "                                   shape=tf.TensorShape((input_shape[0][2], input_shape[0][2])),\n",
        "                                   initializer='uniform',\n",
        "                                   trainable=True)\n",
        "        self.U_a = self.add_weight(name='U_a',\n",
        "                                   shape=tf.TensorShape((input_shape[1][2], input_shape[0][2])),\n",
        "                                   initializer='uniform',\n",
        "                                   trainable=True)\n",
        "        self.V_a = self.add_weight(name='V_a',\n",
        "                                   shape=tf.TensorShape((input_shape[0][2], 1)),\n",
        "                                   initializer='uniform',\n",
        "                                   trainable=True)\n",
        "\n",
        "        super(AttentionLayer, self).build(input_shape)  # Be sure to call this at the end\n",
        "\n",
        "    def call(self, inputs, verbose=False):\n",
        "        \"\"\"\n",
        "        inputs: [encoder_output_sequence, decoder_output_sequence]\n",
        "        \"\"\"\n",
        "        assert type(inputs) == list\n",
        "        encoder_out_seq, decoder_out_seq = inputs\n",
        "        if verbose:\n",
        "            print('encoder_out_seq>', encoder_out_seq.shape)\n",
        "            print('decoder_out_seq>', decoder_out_seq.shape)\n",
        "\n",
        "        def energy_step(inputs, states):\n",
        "            \"\"\" Step function for computing energy for a single decoder state \"\"\"\n",
        "\n",
        "            assert_msg = \"States must be a list. However states {} is of type {}\".format(states, type(states))\n",
        "            assert isinstance(states, list) or isinstance(states, tuple), assert_msg\n",
        "\n",
        "            \"\"\" Some parameters required for shaping tensors\"\"\"\n",
        "            en_seq_len, en_hidden = encoder_out_seq.shape[1], encoder_out_seq.shape[2]\n",
        "            de_hidden = inputs.shape[-1]\n",
        "\n",
        "            \"\"\" Computing S.Wa where S=[s0, s1, ..., si]\"\"\"\n",
        "            # <= batch_size*en_seq_len, latent_dim\n",
        "            reshaped_enc_outputs = K.reshape(encoder_out_seq, (-1, en_hidden))\n",
        "            # <= batch_size*en_seq_len, latent_dim\n",
        "            W_a_dot_s = K.reshape(K.dot(reshaped_enc_outputs, self.W_a), (-1, en_seq_len, en_hidden))\n",
        "            if verbose:\n",
        "                print('wa.s>',W_a_dot_s.shape)\n",
        "\n",
        "            \"\"\" Computing hj.Ua \"\"\"\n",
        "            U_a_dot_h = K.expand_dims(K.dot(inputs, self.U_a), 1)  # <= batch_size, 1, latent_dim\n",
        "            if verbose:\n",
        "                print('Ua.h>',U_a_dot_h.shape)\n",
        "\n",
        "            \"\"\" tanh(S.Wa + hj.Ua) \"\"\"\n",
        "            # <= batch_size*en_seq_len, latent_dim\n",
        "            reshaped_Ws_plus_Uh = K.tanh(K.reshape(W_a_dot_s + U_a_dot_h, (-1, en_hidden)))\n",
        "            if verbose:\n",
        "                print('Ws+Uh>', reshaped_Ws_plus_Uh.shape)\n",
        "\n",
        "            \"\"\" softmax(va.tanh(S.Wa + hj.Ua)) \"\"\"\n",
        "            # <= batch_size, en_seq_len\n",
        "            e_i = K.reshape(K.dot(reshaped_Ws_plus_Uh, self.V_a), (-1, en_seq_len))\n",
        "            # <= batch_size, en_seq_len\n",
        "            e_i = K.softmax(e_i)\n",
        "\n",
        "            if verbose:\n",
        "                print('ei>', e_i.shape)\n",
        "\n",
        "            return e_i, [e_i]\n",
        "\n",
        "        def context_step(inputs, states):\n",
        "            \"\"\" Step function for computing ci using ei \"\"\"\n",
        "            # <= batch_size, hidden_size\n",
        "            c_i = K.sum(encoder_out_seq * K.expand_dims(inputs, -1), axis=1)\n",
        "            if verbose:\n",
        "                print('ci>', c_i.shape)\n",
        "            return c_i, [c_i]\n",
        "\n",
        "        def create_inital_state(inputs, hidden_size):\n",
        "            # We are not using initial states, but need to pass something to K.rnn funciton\n",
        "            fake_state = K.zeros_like(inputs)  # <= (batch_size, enc_seq_len, latent_dim\n",
        "            fake_state = K.sum(fake_state, axis=[1, 2])  # <= (batch_size)\n",
        "            fake_state = K.expand_dims(fake_state)  # <= (batch_size, 1)\n",
        "            fake_state = K.tile(fake_state, [1, hidden_size])  # <= (batch_size, latent_dim\n",
        "            return fake_state\n",
        "\n",
        "        fake_state_c = create_inital_state(encoder_out_seq, encoder_out_seq.shape[-1])\n",
        "        fake_state_e = create_inital_state(encoder_out_seq, encoder_out_seq.shape[1])  # <= (batch_size, enc_seq_len, latent_dim\n",
        "\n",
        "        \"\"\" Computing energy outputs \"\"\"\n",
        "        # e_outputs => (batch_size, de_seq_len, en_seq_len)\n",
        "        last_out, e_outputs, _ = K.rnn(\n",
        "            energy_step, decoder_out_seq, [fake_state_e],\n",
        "        )\n",
        "\n",
        "        \"\"\" Computing context vectors \"\"\"\n",
        "        last_out, c_outputs, _ = K.rnn(\n",
        "            context_step, e_outputs, [fake_state_c],\n",
        "        )\n",
        "\n",
        "        return c_outputs, e_outputs\n",
        "\n",
        "    def compute_output_shape(self, input_shape):\n",
        "        \"\"\" Outputs produced by the layer \"\"\"\n",
        "        return [\n",
        "            tf.TensorShape((input_shape[1][0], input_shape[1][1], input_shape[1][2])),\n",
        "            tf.TensorShape((input_shape[1][0], input_shape[1][1], input_shape[0][1]))\n",
        "        ]\n"
      ],
      "execution_count": 45,
      "outputs": []
    },
    {
      "cell_type": "code",
      "metadata": {
        "id": "XkQOG4Oh1z6I",
        "colab_type": "code",
        "colab": {}
      },
      "source": [
        "def build_model(latent_dim=256):\n",
        "    \n",
        "    embedding_enc = Embedding(*embedding_matrix_enc.shape, weights=[embedding_matrix_enc], trainable=False, mask_zero=True, name = \"Encoder_Embedding\")\n",
        "    embedding_dec = Embedding(*embedding_matrix_dec.shape, weights=[embedding_matrix_dec], trainable=False, mask_zero=True, name = \"Decoder_Embedding\")\n",
        "    \n",
        "    \"\"\" Encoder LSTM\"\"\" \n",
        "    encoder_inputs = Input(shape=(20,), name=\"encoder_input\")\n",
        "    enc_emb = embedding_enc(encoder_inputs) \n",
        "    enc_output, state_h, state_c = LSTM(latent_dim, return_sequences=True, return_state=True, name = \"Encoder_LSTM\")(enc_emb)\n",
        " \n",
        "    encoder_states = [state_h, state_c]\n",
        "    \n",
        "\n",
        "    \"\"\" Decoder LSTM \"\"\" \n",
        "    decoder_inputs = Input(shape=(20,), name=\"decoder_input\")\n",
        "    dec_emb_layer = embedding_dec(decoder_inputs)\n",
        "    dec_lstm = LSTM(latent_dim, return_sequences=True, return_state=True, name = \"Decoder_LSTM\")\n",
        "    \n",
        "    decoder_outputs,state_h, state_c = dec_lstm(dec_emb_layer,initial_state=encoder_states)\n",
        "     \n",
        "    decoder_states = [state_h, state_c]\n",
        "     \n",
        "    \"\"\" Attention Layer \"\"\"\n",
        "    attn_layer = AttentionLayer(name='attention_layer')\n",
        "    attn_out, attn_states = attn_layer([enc_output, decoder_outputs])\n",
        "    \n",
        "    decoder_concat_input = Concatenate(axis=-1, name='concat_layer')([decoder_outputs, attn_out])\n",
        "    \n",
        "    dense = Dense(num_decoder_tokens, activation='softmax', name='softmax_layer')\n",
        "    dense_time = TimeDistributed(dense, name='time_distributed_layer')\n",
        "    decoder_pred = dense_time(decoder_concat_input)\n",
        "\n",
        "    \"\"\" Defining Full Model \"\"\"\n",
        "    model = Model(inputs=[encoder_inputs, decoder_inputs], outputs = decoder_pred) \n",
        "    \n",
        "    \n",
        "    \n",
        "    \n",
        "    \"\"\" Defining Inference Model \"\"\" \n",
        "    \n",
        "    # Encoder Model\n",
        "     \n",
        "    encoder_model = Model(inputs = encoder_inputs, outputs = [enc_output, encoder_states])\n",
        "     \n",
        "    \"\"\" Decoder Model \"\"\"\n",
        "     \n",
        "    decoder_states_inputs = [Input(shape=(latent_dim,), name = \"Decoder_inp_1\"), Input(shape=(latent_dim,), name = \"Decoder_inp_2\")]\n",
        "    enc_output = Input(shape=(20, latent_dim), name = \"encoder_output\")\n",
        "    \n",
        "    # To predict the next word in the sequence, set the initial states to the states from the previous time step\n",
        "    decoder_outputs, state_h, state_c = dec_lstm(dec_emb_layer, initial_state=decoder_states_inputs)\n",
        "    decoder_states = [state_h, state_c]\n",
        "    \n",
        "    attn_out, attn_states = attn_layer([enc_output, decoder_outputs])\n",
        "    decoder_concat_input = Concatenate(axis=-1, name='concat_layer')([decoder_outputs, attn_out])\n",
        "    \n",
        "    decoder_pred = dense_time(decoder_concat_input)     \n",
        "    decoder_model = Model( [enc_output, decoder_states_inputs, decoder_inputs], [decoder_pred, attn_states, decoder_states])    \n",
        "    \n",
        "    \n",
        "    model.compile(optimizer='adam', loss='categorical_crossentropy')\n",
        "    \n",
        " \n",
        "\n",
        "    return model, encoder_model, decoder_model"
      ],
      "execution_count": 93,
      "outputs": []
    },
    {
      "cell_type": "code",
      "metadata": {
        "id": "6ZrR0xhs1z2N",
        "colab_type": "code",
        "colab": {}
      },
      "source": [
        "model, encoder_model, decoder_model = build_model()"
      ],
      "execution_count": 94,
      "outputs": []
    },
    {
      "cell_type": "code",
      "metadata": {
        "id": "hlo6X6nAeiBO",
        "colab_type": "code",
        "colab": {
          "base_uri": "https://localhost:8080/",
          "height": 754
        },
        "outputId": "2d5691a3-b0b2-4ca1-9f44-c2e5d39688fe"
      },
      "source": [
        "plot_model(model, to_file='model_att.png', show_shapes=True, show_layer_names=True,\n",
        "    rankdir='TB', expand_nested=False, dpi=96)"
      ],
      "execution_count": 95,
      "outputs": [
        {
          "output_type": "execute_result",
          "data": {
            "image/png": "[encoded data removed]",
            "text/plain": [
              "<IPython.core.display.Image object>"
            ]
          },
          "metadata": {
            "tags": []
          },
          "execution_count": 95
        }
      ]
    },
    {
      "cell_type": "code",
      "metadata": {
        "id": "c-mnKvrVeiJ-",
        "colab_type": "code",
        "colab": {
          "base_uri": "https://localhost:8080/",
          "height": 312
        },
        "outputId": "cc92ab3c-e11a-4e44-88aa-3894d792cdfd"
      },
      "source": [
        "plot_model(\n",
        "    encoder_model, to_file='encoder_model_att.png', show_shapes=True, show_layer_names=True,\n",
        "    rankdir='TB', expand_nested=False, dpi=96\n",
        ")"
      ],
      "execution_count": 96,
      "outputs": [
        {
          "output_type": "execute_result",
          "data": {
            "image/png": "[encoded data removed]",
            "text/plain": [
              "<IPython.core.display.Image object>"
            ]
          },
          "metadata": {
            "tags": []
          },
          "execution_count": 96
        }
      ]
    },
    {
      "cell_type": "code",
      "metadata": {
        "id": "MwPhq8_PeiSE",
        "colab_type": "code",
        "colab": {
          "base_uri": "https://localhost:8080/",
          "height": 579
        },
        "outputId": "847df507-d576-4e99-9f98-c3d3c807cc8d"
      },
      "source": [
        "plot_model(\n",
        "    decoder_model, to_file='decoder_model_att.png', show_shapes=True, show_layer_names=True,\n",
        "    rankdir='TB', expand_nested=False, dpi=96\n",
        ")"
      ],
      "execution_count": 97,
      "outputs": [
        {
          "output_type": "execute_result",
          "data": {
            "image/png": "[encoded data removed]",
            "text/plain": [
              "<IPython.core.display.Image object>"
            ]
          },
          "metadata": {
            "tags": []
          },
          "execution_count": 97
        }
      ]
    },
    {
      "cell_type": "code",
      "metadata": {
        "id": "_hXMRVwf1zz2",
        "colab_type": "code",
        "colab": {}
      },
      "source": [
        "def generate_batch(X, y, batch_size):\n",
        "    ''' Generate a batch of data '''\n",
        "    while True:\n",
        "        for j in range(0, len(X), batch_size):\n",
        "            encoder_input_data = np.array(X[j:j+batch_size])\n",
        "            decoder_input_data = np.array(y[j:j+batch_size])\n",
        "            decoder_target_data = np.zeros((encoder_input_data.shape[0], 20, num_decoder_tokens),dtype='float32')\n",
        "            for i, target_text in enumerate(y[j:j+batch_size]):\n",
        "                for t, index in enumerate(target_text):\n",
        "                    if t>0:\n",
        "                        # decoder target sequence (one hot encoded)\n",
        "                        # does not include the START_ token\n",
        "                        decoder_target_data[i, t - 1, index] = 1.\n",
        "           \n",
        "            yield([encoder_input_data, decoder_input_data], decoder_target_data)"
      ],
      "execution_count": 98,
      "outputs": []
    },
    {
      "cell_type": "code",
      "metadata": {
        "id": "G66VX8the3Kk",
        "colab_type": "code",
        "colab": {
          "base_uri": "https://localhost:8080/",
          "height": 34
        },
        "outputId": "2140de24-c9d2-4502-d07c-bf10841b9424"
      },
      "source": [
        "train_samples = len(X_train)\n",
        "val_samples = len(X_test)\n",
        "batch_size = 64\n",
        "epochs = 10\n",
        "train_samples, val_samples"
      ],
      "execution_count": 90,
      "outputs": [
        {
          "output_type": "execute_result",
          "data": {
            "text/plain": [
              "(160415, 40104)"
            ]
          },
          "metadata": {
            "tags": []
          },
          "execution_count": 90
        }
      ]
    },
    {
      "cell_type": "code",
      "metadata": {
        "id": "KAJdbtBze4dH",
        "colab_type": "code",
        "colab": {}
      },
      "source": [
        "filepath=\"model/weights-improvement-{epoch:02d}.hdf5\"\n",
        "checkpoint = ModelCheckpoint(filepath, monitor='val_loss', save_best_only=True, mode='min')\n",
        "callbacks_list = [checkpoint]"
      ],
      "execution_count": 99,
      "outputs": []
    },
    {
      "cell_type": "code",
      "metadata": {
        "id": "vrACsFir17Rw",
        "colab_type": "code",
        "colab": {
          "base_uri": "https://localhost:8080/",
          "height": 374
        },
        "outputId": "bcdf5f47-4c98-44af-a185-e87118fb8a59"
      },
      "source": [
        "model.fit_generator(generator = generate_batch(X_train, Y_train, batch_size = batch_size),\n",
        "  steps_per_epoch = len(X_train)//batch_size,\n",
        "  epochs=epochs,\n",
        "  validation_data = generate_batch(X_test, Y_test, batch_size = batch_size),\n",
        "  validation_steps = len(X_test)//batch_size,\n",
        "  callbacks = callbacks_list)"
      ],
      "execution_count": 100,
      "outputs": [
        {
          "output_type": "stream",
          "text": [
            "Epoch 1/10\n",
            "2506/2506 [==============================] - 765s 305ms/step - loss: 1.4183 - val_loss: 0.8713\n",
            "Epoch 2/10\n",
            "2506/2506 [==============================] - 768s 307ms/step - loss: 0.7438 - val_loss: 0.6783\n",
            "Epoch 3/10\n",
            "2506/2506 [==============================] - 765s 305ms/step - loss: 0.5546 - val_loss: 0.6242\n",
            "Epoch 4/10\n",
            "2506/2506 [==============================] - 773s 308ms/step - loss: 0.4543 - val_loss: 0.6078\n",
            "Epoch 5/10\n",
            "2506/2506 [==============================] - 768s 306ms/step - loss: 0.3942 - val_loss: 0.6046\n",
            "Epoch 6/10\n",
            "2506/2506 [==============================] - 771s 308ms/step - loss: 0.3541 - val_loss: 0.6060\n",
            "Epoch 7/10\n",
            "2506/2506 [==============================] - 768s 307ms/step - loss: 0.3243 - val_loss: 0.6136\n",
            "Epoch 8/10\n",
            "2506/2506 [==============================] - 782s 312ms/step - loss: 0.3002 - val_loss: 0.6216\n",
            "Epoch 9/10\n",
            "2506/2506 [==============================] - 775s 309ms/step - loss: 0.2804 - val_loss: 0.6347\n",
            "Epoch 10/10\n",
            "2506/2506 [==============================] - 789s 315ms/step - loss: 0.2635 - val_loss: 0.6442\n"
          ],
          "name": "stdout"
        },
        {
          "output_type": "execute_result",
          "data": {
            "text/plain": [
              "<tensorflow.python.keras.callbacks.History at 0x7f74ece15748>"
            ]
          },
          "metadata": {
            "tags": []
          },
          "execution_count": 100
        }
      ]
    },
    {
      "cell_type": "code",
      "metadata": {
        "id": "4MXi_VAY19ee",
        "colab_type": "code",
        "colab": {}
      },
      "source": [
        "model.save_weights('model/final_model_att.h5')"
      ],
      "execution_count": 101,
      "outputs": []
    },
    {
      "cell_type": "code",
      "metadata": {
        "id": "c0o3Dcm0d98d",
        "colab_type": "code",
        "colab": {}
      },
      "source": [
        "# saving\n",
        "import pickle\n",
        "with open('model/tokenizer_eng_att.pickle', 'wb') as handle:\n",
        "    pickle.dump(tokenizer_eng, handle, protocol=pickle.HIGHEST_PROTOCOL)\n",
        "# saving\n",
        "with open('model/tokenizer_ger_att.pickle', 'wb') as handle:\n",
        "    pickle.dump(tokenizer_ger, handle, protocol=pickle.HIGHEST_PROTOCOL)"
      ],
      "execution_count": 103,
      "outputs": []
    },
    {
      "cell_type": "code",
      "metadata": {
        "id": "lpluKgx-1_Ja",
        "colab_type": "code",
        "colab": {}
      },
      "source": [
        "# model.load_weights('model/final_model_att.h5')"
      ],
      "execution_count": null,
      "outputs": []
    },
    {
      "cell_type": "markdown",
      "metadata": {
        "id": "_ycScS4l2AxW",
        "colab_type": "text"
      },
      "source": [
        "# Inference Step"
      ]
    },
    {
      "cell_type": "code",
      "metadata": {
        "id": "3uZJkUNt2B4q",
        "colab_type": "code",
        "colab": {}
      },
      "source": [
        "def sents2sequences(tokenizer, sentences, pad_length=None, padding_type='post'):\n",
        "    encoded_text = tokenizer.texts_to_sequences(sentences)\n",
        "    preproc_text = pad_sequences(encoded_text, padding=padding_type, maxlen=pad_length)\n",
        "    return preproc_text\n",
        "\n",
        "def decode_sequence(text, tokenizer_text = tokenizer_eng, tokenizer_Y=tokenizer_ger):\n",
        "    # Text to sequence\n",
        "    text = \"startseq \" + text + \" endseq\"\n",
        "    text = pad_sequence(tokenizer_text.texts_to_sequences([text]))\n",
        "\n",
        "    # Encode the input as state vectors. \n",
        "    enc_output, encoder_states = encoder_model.predict(text) \n",
        "    decoder_states = encoder_states\n",
        "\n",
        "    # Generate empty target sequence of length 1.\n",
        "    target_seq = np.zeros((1,1))\n",
        "\n",
        "    # Populate the first character of target sequence with the start character.\n",
        "    target_seq[0, 0] = tokenizer_Y.word_index['startseq']\n",
        "     \n",
        "    attention_weights = []\n",
        "    stop_condition = False\n",
        "    decoded_sentence = ''\n",
        "    \n",
        "    while True:\n",
        "        decoder_pred, attn_states, decoder_states = decoder_model.predict([enc_output, decoder_states, target_seq])\n",
        "\n",
        "        dec_ind = np.argmax(decoder_pred, axis=-1)[0, 0]\n",
        "        if dec_ind == tokenizer_Y.word_index['endseq'] or len(decoded_sentence.split()) > 25:\n",
        "            break \n",
        "             \n",
        "        target_seq = np.zeros((1,1))\n",
        "        target_seq[0, 0] = dec_ind\n",
        "        attention_weights.append((dec_ind, attn_states))\n",
        "        decoded_sentence += tokenizer_Y.index_word[dec_ind] + ' '\n",
        "\n",
        "    return decoded_sentence"
      ],
      "execution_count": 115,
      "outputs": []
    },
    {
      "cell_type": "code",
      "metadata": {
        "id": "kGloRcWn2FHG",
        "colab_type": "code",
        "colab": {
          "base_uri": "https://localhost:8080/",
          "height": 68
        },
        "outputId": "695948a6-dba6-4405-9e35-0c0ceca08b8d"
      },
      "source": [
        "index = 22432\n",
        "print(\"English: {}\".format(df.iloc[index]['eng']))\n",
        "print(\"Acutal Ger: {}\".format(df.iloc[index]['ger']))\n",
        "print(\"Predicted Ger: {}\".format(decode_sequence(df.iloc[index]['eng']))) "
      ],
      "execution_count": 116,
      "outputs": [
        {
          "output_type": "stream",
          "text": [
            "English: startseq tom will remember endseq\n",
            "Acutal Ger: startseq tom wird sich erinnern endseq\n",
            "Predicted Ger: tom wird sich erinnern sich erinnern \n"
          ],
          "name": "stdout"
        }
      ]
    },
    {
      "cell_type": "code",
      "metadata": {
        "id": "c9qmCA6SQmkl",
        "colab_type": "code",
        "colab": {
          "base_uri": "https://localhost:8080/",
          "height": 68
        },
        "outputId": "3d3b193b-72c7-4f77-fa6f-2831dfadb9e2"
      },
      "source": [
        "index = 3523\n",
        "print(\"English: {}\".format(df.iloc[index]['eng']))\n",
        "print(\"Acutal Ger: {}\".format(df.iloc[index]['ger']))\n",
        "print(\"Predicted Ger: {}\".format(decode_sequence(df.iloc[index]['eng']))) "
      ],
      "execution_count": 122,
      "outputs": [
        {
          "output_type": "stream",
          "text": [
            "English: startseq im so tired endseq\n",
            "Acutal Ger: startseq ich bin so müde endseq\n",
            "Predicted Ger: ich bin so müde\n"
          ],
          "name": "stdout"
        }
      ]
    },
    {
      "cell_type": "code",
      "metadata": {
        "id": "TqN2V8JrcvZq",
        "colab_type": "code",
        "colab": {
          "base_uri": "https://localhost:8080/",
          "height": 51
        },
        "outputId": "f98a973b-8df6-42b5-dd38-f5d9a6af8dec"
      },
      "source": [
        "a = \"hi there, how are you!\"\n",
        "print(\"English Text: {}\".format(a))\n",
        "print(\"Translated Text: {}\".format(decode_sequence(a)))"
      ],
      "execution_count": 117,
      "outputs": [
        {
          "output_type": "stream",
          "text": [
            "English Text: hi there, how are you!\n",
            "Translated Text: hallo wie geht es dir \n"
          ],
          "name": "stdout"
        }
      ]
    },
    {
      "cell_type": "code",
      "metadata": {
        "id": "K8zWetmiQYc8",
        "colab_type": "code",
        "colab": {
          "base_uri": "https://localhost:8080/",
          "height": 51
        },
        "outputId": "e0dabaa4-bac7-43c2-e038-8c361d5eeaa7"
      },
      "source": [
        "a = \"let us go for a trip\"\n",
        "print(\"English Text: {}\".format(a))\n",
        "print(\"Translated Text: {}\".format(decode_sequence(a)))"
      ],
      "execution_count": 118,
      "outputs": [
        {
          "output_type": "stream",
          "text": [
            "English Text: let us go for a trip\n",
            "Translated Text: lass uns verreisen \n"
          ],
          "name": "stdout"
        }
      ]
    },
    {
      "cell_type": "code",
      "metadata": {
        "id": "JxpdchA1QcVs",
        "colab_type": "code",
        "colab": {
          "base_uri": "https://localhost:8080/",
          "height": 51
        },
        "outputId": "18216835-4459-4367-fb2d-857f084b7c4d"
      },
      "source": [
        "a = \"Finally, I am done with this assignment\"\n",
        "print(\"English Text: {}\".format(a))\n",
        "print(\"Translated Text: {}\".format(decode_sequence(a)))"
      ],
      "execution_count": 119,
      "outputs": [
        {
          "output_type": "stream",
          "text": [
            "English Text: Finally, I am done with this assignment\n",
            "Translated Text: endlich bin endlich mit dieser arbeit fertig \n"
          ],
          "name": "stdout"
        }
      ]
    }
  ]
}